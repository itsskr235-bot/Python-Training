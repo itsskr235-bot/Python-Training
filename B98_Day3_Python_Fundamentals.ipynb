{
 "cells": [
  {
   "cell_type": "code",
   "execution_count": null,
   "id": "0faa0e52-78f0-468d-9da8-2d1d994b4484",
   "metadata": {},
   "outputs": [],
   "source": [
    "Continuation with string datatype:"
   ]
  },
  {
   "cell_type": "code",
   "execution_count": 1,
   "id": "acd97cc2-0eba-407f-b5a8-47778a85564c",
   "metadata": {},
   "outputs": [
    {
     "name": "stdout",
     "output_type": "stream",
     "text": [
      "dinesh\n"
     ]
    }
   ],
   "source": [
    "name = \"dinesh\"\n",
    "print(name)\n"
   ]
  },
  {
   "cell_type": "code",
   "execution_count": null,
   "id": "39dc64ed-5350-4f34-ae5d-b9995fb96c3c",
   "metadata": {},
   "outputs": [],
   "source": []
  },
  {
   "cell_type": "code",
   "execution_count": 2,
   "id": "d9265ade-9909-40ed-9ee2-ad5d2fbda534",
   "metadata": {},
   "outputs": [
    {
     "data": {
      "text/plain": [
       "str"
      ]
     },
     "execution_count": 2,
     "metadata": {},
     "output_type": "execute_result"
    }
   ],
   "source": [
    "type(name)"
   ]
  },
  {
   "cell_type": "code",
   "execution_count": null,
   "id": "e240fc8f-346b-4af3-b0d2-98c9b7654f81",
   "metadata": {},
   "outputs": [],
   "source": []
  },
  {
   "cell_type": "code",
   "execution_count": 3,
   "id": "1b48cc28-0f12-4f63-8a8b-65778e63134c",
   "metadata": {},
   "outputs": [
    {
     "name": "stdout",
     "output_type": "stream",
     "text": [
      "dinesh sahu\n"
     ]
    }
   ],
   "source": [
    "fullname = \"dinesh sahu\"\n",
    "print(fullname)"
   ]
  },
  {
   "cell_type": "code",
   "execution_count": null,
   "id": "7e9a876a-e927-44c5-ad8f-1097fce7469b",
   "metadata": {},
   "outputs": [],
   "source": []
  },
  {
   "cell_type": "code",
   "execution_count": null,
   "id": "39545d03-9b88-4a44-b034-d7cc90ae4fa1",
   "metadata": {},
   "outputs": [],
   "source": [
    "#arragne first letter in capital letter"
   ]
  },
  {
   "cell_type": "code",
   "execution_count": 5,
   "id": "63af5b84-46d2-4ae1-b5eb-4bd9d51443e1",
   "metadata": {},
   "outputs": [
    {
     "name": "stdout",
     "output_type": "stream",
     "text": [
      "Dinesh Sahu\n"
     ]
    }
   ],
   "source": [
    "print(fullname.title()) "
   ]
  },
  {
   "cell_type": "code",
   "execution_count": null,
   "id": "34405069-4122-4d07-881c-c7e1f78ca3d0",
   "metadata": {},
   "outputs": [],
   "source": []
  },
  {
   "cell_type": "code",
   "execution_count": null,
   "id": "fcfa956f-68d8-4c05-8032-4835b1b75dd6",
   "metadata": {},
   "outputs": [],
   "source": [
    "# I want to get the fullname in the CAPITAL LETTER"
   ]
  },
  {
   "cell_type": "code",
   "execution_count": 6,
   "id": "fc65a4f9-536a-408f-874d-3c8c35721c91",
   "metadata": {},
   "outputs": [
    {
     "name": "stdout",
     "output_type": "stream",
     "text": [
      "DINESH SAHU\n"
     ]
    }
   ],
   "source": [
    "print(fullname.upper())"
   ]
  },
  {
   "cell_type": "code",
   "execution_count": null,
   "id": "c4f96344-eebc-4d7c-9f81-492fe0217b04",
   "metadata": {},
   "outputs": [],
   "source": []
  },
  {
   "cell_type": "code",
   "execution_count": null,
   "id": "136a2825-3434-4403-9800-80dc91236d6f",
   "metadata": {},
   "outputs": [],
   "source": [
    "#I want to get the full name in small letter .. ?"
   ]
  },
  {
   "cell_type": "code",
   "execution_count": 7,
   "id": "70c72024-65b9-4061-a3d9-a0452f6d7e1a",
   "metadata": {},
   "outputs": [
    {
     "name": "stdout",
     "output_type": "stream",
     "text": [
      "dinesh sahu\n"
     ]
    }
   ],
   "source": [
    "print(fullname.lower())"
   ]
  },
  {
   "cell_type": "code",
   "execution_count": null,
   "id": "0c9efbbb-89d9-4b3c-abd2-4d7bd28d800d",
   "metadata": {},
   "outputs": [],
   "source": []
  },
  {
   "cell_type": "code",
   "execution_count": null,
   "id": "9b7d95f6-13d2-4406-bdd8-ef8a9ff701ec",
   "metadata": {},
   "outputs": [],
   "source": [
    "introduction to f string:"
   ]
  },
  {
   "cell_type": "code",
   "execution_count": null,
   "id": "e7188466-c5c0-48de-9de8-6d01247fc558",
   "metadata": {},
   "outputs": [],
   "source": [
    "General syntax of f string"
   ]
  },
  {
   "cell_type": "code",
   "execution_count": null,
   "id": "d1e09d31-74f8-4f85-8e58-b25269179f35",
   "metadata": {},
   "outputs": [],
   "source": [
    "f\"custom_message {placeholder1} {placeholder2}.......{placeholdern}\""
   ]
  },
  {
   "cell_type": "code",
   "execution_count": null,
   "id": "57edb182-2c2b-4ffd-975a-65fb8d003bb6",
   "metadata": {},
   "outputs": [],
   "source": []
  },
  {
   "cell_type": "code",
   "execution_count": 35,
   "id": "e246dc6e-7c7f-4db5-8b64-dfdb892288be",
   "metadata": {},
   "outputs": [
    {
     "name": "stdout",
     "output_type": "stream",
     "text": [
      "sana kauser\n"
     ]
    }
   ],
   "source": [
    "firstname = \"sana\"\n",
    "lastname = \"kauser\"\n",
    "print(firstname, lastname)"
   ]
  },
  {
   "cell_type": "code",
   "execution_count": null,
   "id": "18989158-79da-49f6-b83a-ab88e3e9bd6d",
   "metadata": {},
   "outputs": [],
   "source": [
    "#I want to get the fullname... ?"
   ]
  },
  {
   "cell_type": "code",
   "execution_count": 36,
   "id": "73361655-ee8f-4487-b615-1ae47fc37d74",
   "metadata": {},
   "outputs": [
    {
     "name": "stdout",
     "output_type": "stream",
     "text": [
      "sana kauser\n"
     ]
    }
   ],
   "source": [
    "fullname = f\"{firstname} {lastname}\"\n",
    "print(fullname)"
   ]
  },
  {
   "cell_type": "code",
   "execution_count": null,
   "id": "840a25cf-3343-4f2d-a0e4-cb11c9364563",
   "metadata": {},
   "outputs": [],
   "source": []
  },
  {
   "cell_type": "code",
   "execution_count": null,
   "id": "1e4015a1-499f-42a8-a28b-eb9b2a05596b",
   "metadata": {},
   "outputs": [],
   "source": [
    "#req:"
   ]
  },
  {
   "cell_type": "code",
   "execution_count": 13,
   "id": "d9ad8647-038b-4a8e-8797-d654435aa6e3",
   "metadata": {},
   "outputs": [
    {
     "name": "stdout",
     "output_type": "stream",
     "text": [
      "keep up the good work, Dinesh Sahu\n"
     ]
    }
   ],
   "source": [
    "message = f\"keep up the good work, {fullname.title()}\"\n",
    "print(message)"
   ]
  },
  {
   "cell_type": "code",
   "execution_count": null,
   "id": "6723748c-d8c6-494a-8bc2-e7dba105e6f6",
   "metadata": {},
   "outputs": [],
   "source": []
  },
  {
   "cell_type": "code",
   "execution_count": null,
   "id": "ae7cba95-16ae-469c-8c4a-7dc606efc164",
   "metadata": {},
   "outputs": [],
   "source": [
    "adding whitespaces to string:"
   ]
  },
  {
   "cell_type": "code",
   "execution_count": 15,
   "id": "e4de2329-d46f-4859-a445-477cba35443a",
   "metadata": {},
   "outputs": [
    {
     "name": "stdout",
     "output_type": "stream",
     "text": [
      "favourite_programming:Pythonjavac++javascriptswift\n"
     ]
    }
   ],
   "source": [
    "print(\"favourite_programming:Pythonjavac++javascriptswift\")"
   ]
  },
  {
   "cell_type": "code",
   "execution_count": 16,
   "id": "61d0fd0a-9619-4018-8285-61d6a346303c",
   "metadata": {},
   "outputs": [
    {
     "name": "stdout",
     "output_type": "stream",
     "text": [
      "favourite_programming:\n",
      "Python\n",
      "java\n",
      "c++\n",
      "javascript\n",
      "siwft\n"
     ]
    }
   ],
   "source": [
    "print(\"favourite_programming:\\nPython\\njava\\nc++\\njavascript\\nsiwft\") #\\n -> for new linedelimiter"
   ]
  },
  {
   "cell_type": "code",
   "execution_count": null,
   "id": "42767186-cad6-4c3f-b2be-72dfbc886160",
   "metadata": {},
   "outputs": [],
   "source": []
  },
  {
   "cell_type": "code",
   "execution_count": 20,
   "id": "12b5590d-46f1-486d-8ce8-d11f70bb17fa",
   "metadata": {},
   "outputs": [
    {
     "name": "stdout",
     "output_type": "stream",
     "text": [
      "favourite_programming:\n",
      "\tPython\n",
      "\tjava\n",
      "\tc++\n",
      "\tjavascript\n",
      "\tsiwft\n"
     ]
    }
   ],
   "source": [
    "print(\"favourite_programming:\\n\\tPython\\n\\tjava\\n\\tc++\\n\\tjavascript\\n\\tsiwft\")  #\\t == tab delimiter"
   ]
  },
  {
   "cell_type": "code",
   "execution_count": null,
   "id": "1907eb72-6c90-4ffc-85a5-491af8c7c6c2",
   "metadata": {},
   "outputs": [],
   "source": []
  }
 ],
 "metadata": {
  "kernelspec": {
   "display_name": "Python [conda env:base] *",
   "language": "python",
   "name": "conda-base-py"
  },
  "language_info": {
   "codemirror_mode": {
    "name": "ipython",
    "version": 3
   },
   "file_extension": ".py",
   "mimetype": "text/x-python",
   "name": "python",
   "nbconvert_exporter": "python",
   "pygments_lexer": "ipython3",
   "version": "3.13.5"
  }
 },
 "nbformat": 4,
 "nbformat_minor": 5
}
