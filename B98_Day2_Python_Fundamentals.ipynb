{
 "cells": [
  {
   "cell_type": "code",
   "execution_count": 1,
   "id": "83291637-de04-4baa-88e7-295278319f41",
   "metadata": {},
   "outputs": [
    {
     "name": "stdout",
     "output_type": "stream",
     "text": [
      "3\n"
     ]
    }
   ],
   "source": [
    "Day 2 - Python fundamentals"
   ]
  },
  {
   "cell_type": "code",
   "execution_count": 1,
   "id": "904627ef-e695-4896-9939-0cd6435e29ce",
   "metadata": {},
   "outputs": [
    {
     "name": "stdout",
     "output_type": "stream",
     "text": [
      "3\n"
     ]
    }
   ],
   "source": [
    "a = 1\n",
    "b = 2\n",
    "c = a+b\n",
    "print(c)\n"
   ]
  },
  {
   "cell_type": "code",
   "execution_count": 6,
   "id": "bedfa2f7-444d-464d-94e0-5d14080344d0",
   "metadata": {},
   "outputs": [
    {
     "name": "stdout",
     "output_type": "stream",
     "text": [
      "Syed\n"
     ]
    }
   ],
   "source": [
    "firstname = \"Syed\"\n",
    "print(firstname)"
   ]
  },
  {
   "cell_type": "code",
   "execution_count": 8,
   "id": "fa5fe6a8-3d94-4861-ada4-97856c82b0df",
   "metadata": {},
   "outputs": [
    {
     "ename": "SyntaxError",
     "evalue": "invalid syntax (2778304813.py, line 2)",
     "output_type": "error",
     "traceback": [
      "\u001b[1;36m  Cell \u001b[1;32mIn[8], line 2\u001b[1;36m\u001b[0m\n\u001b[1;33m    first name = \"syed\"\u001b[0m\n\u001b[1;37m          ^\u001b[0m\n\u001b[1;31mSyntaxError\u001b[0m\u001b[1;31m:\u001b[0m invalid syntax\n"
     ]
    }
   ],
   "source": [
    "#Variable Rules\n",
    "\n",
    "#Rule 1 - No namespaces are allowed for declaring a variable names\n",
    "first name = \"syed\"\n",
    "print(first name)"
   ]
  },
  {
   "cell_type": "code",
   "execution_count": 9,
   "id": "6c99f424-4947-47d6-b8d5-76a2023092f9",
   "metadata": {},
   "outputs": [
    {
     "ename": "SyntaxError",
     "evalue": "invalid decimal literal (1285609601.py, line 2)",
     "output_type": "error",
     "traceback": [
      "\u001b[1;36m  Cell \u001b[1;32mIn[9], line 2\u001b[1;36m\u001b[0m\n\u001b[1;33m    1name = syed\u001b[0m\n\u001b[1;37m    ^\u001b[0m\n\u001b[1;31mSyntaxError\u001b[0m\u001b[1;31m:\u001b[0m invalid decimal literal\n"
     ]
    }
   ],
   "source": [
    "#Rule 2 - a variable name should not start with a **##!!$$%%&&==>>\n",
    "1name = syed\n",
    "print(1name)"
   ]
  },
  {
   "cell_type": "code",
   "execution_count": 10,
   "id": "b153d4b1-2d76-49c0-a989-041feab35dd4",
   "metadata": {},
   "outputs": [
    {
     "ename": "SyntaxError",
     "evalue": "invalid syntax (1322713658.py, line 2)",
     "output_type": "error",
     "traceback": [
      "\u001b[1;36m  Cell \u001b[1;32mIn[10], line 2\u001b[1;36m\u001b[0m\n\u001b[1;33m    name@ = \"syed\"\u001b[0m\n\u001b[1;37m          ^\u001b[0m\n\u001b[1;31mSyntaxError\u001b[0m\u001b[1;31m:\u001b[0m invalid syntax\n"
     ]
    }
   ],
   "source": [
    "#Rule 3 - A variable name should not contain any special characters\n",
    "name@ = \"syed\"\n",
    "print(name@)"
   ]
  },
  {
   "cell_type": "code",
   "execution_count": null,
   "id": "240f1e2d-ca25-4590-b256-edc2ca1e2979",
   "metadata": {},
   "outputs": [],
   "source": [
    "Introduction to data types in python\n",
    "Strings      ==> str\n",
    "Numbers      ==> Integers(int), Decimal(floats) 1.1, 0.2\n",
    "lists        ==> list\n",
    "Tuples       ==> tuple\n",
    "Dictionaries ==> dict"
   ]
  },
  {
   "cell_type": "code",
   "execution_count": null,
   "id": "f48d19b4-2c19-4327-914f-9c90bc71a831",
   "metadata": {},
   "outputs": [],
   "source": [
    "Classification of data types\n",
    "Broadly data types are classified into  two categories\n",
    "\n",
    "1. mutable datatypes ---> which can be able to edit/alter\n",
    "2. Immutable datatypes --->  which can not be able to edit/alter"
   ]
  },
  {
   "cell_type": "code",
   "execution_count": null,
   "id": "0598b97b-73b6-49cd-ac9e-b945154bbef8",
   "metadata": {},
   "outputs": [],
   "source": [
    "Introduction to string datatype:\n",
    "- a String is a series of characters declared in qoutes.\n",
    "- it is classified as immutable datatype.\n",
    "- how to declare the string\n",
    "\tname = 'Chris'\t#Single qoute\n",
    "\tprint(name)\n",
    "\n",
    "\tname2 = \"David\"\t#Double qoute\n",
    "\tprint(name2)"
   ]
  },
  {
   "cell_type": "code",
   "execution_count": 12,
   "id": "f477e3f8-75af-4397-88c2-5a3f0ee4c187",
   "metadata": {},
   "outputs": [
    {
     "name": "stdout",
     "output_type": "stream",
     "text": [
      "Chris\n",
      "David\n"
     ]
    }
   ],
   "source": [
    "\tname = 'Chris'\t#Single qoute\n",
    "\tprint(name)\n",
    "\n",
    "\tname2 = \"David\"\t#Double qoute\n",
    "\tprint(name2)"
   ]
  },
  {
   "cell_type": "code",
   "execution_count": null,
   "id": "09d46482-f2d3-48cb-b3c8-5802cf0d9134",
   "metadata": {},
   "outputs": [],
   "source": []
  }
 ],
 "metadata": {
  "kernelspec": {
   "display_name": "Python [conda env:base] *",
   "language": "python",
   "name": "conda-base-py"
  },
  "language_info": {
   "codemirror_mode": {
    "name": "ipython",
    "version": 3
   },
   "file_extension": ".py",
   "mimetype": "text/x-python",
   "name": "python",
   "nbconvert_exporter": "python",
   "pygments_lexer": "ipython3",
   "version": "3.13.5"
  }
 },
 "nbformat": 4,
 "nbformat_minor": 5
}
